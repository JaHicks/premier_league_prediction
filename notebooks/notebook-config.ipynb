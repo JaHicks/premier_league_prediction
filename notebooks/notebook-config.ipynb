{
 "cells": [
  {
   "cell_type": "code",
   "execution_count": 1,
   "id": "ancient-allocation",
   "metadata": {},
   "outputs": [
    {
     "name": "stdout",
     "output_type": "stream",
     "text": [
      "autoreload enabled\n",
      "matplotlib: show plots inline\n",
      "pandas imported as pd (1.2.1)\n",
      "Pandas display: Remove maximum column width\n",
      "Pandas display: Show up to 100 columns in tables\n",
      "Pandas display: Show up to 100 rows in tables\n",
      "Pandas display: Set floats to show up to 3 decimal places\n"
     ]
    }
   ],
   "source": [
    "# auto load changes to Python files\n",
    "%load_ext autoreload\n",
    "%autoreload 2\n",
    "print(\"autoreload enabled\")\n",
    "\n",
    "%matplotlib inline\n",
    "print(\"matplotlib: show plots inline\")\n",
    "\n",
    "import pandas as pd\n",
    "print(\"pandas imported as pd ({})\".format(pd.__version__))\n",
    "\n",
    "# Remove limits on displayed pandas tables\n",
    "pd.set_option('display.max_colwidth', None)\n",
    "print(\"Pandas display: Remove maximum column width\")\n",
    "\n",
    "pd.set_option('display.max_columns', 100)\n",
    "print(\"Pandas display: Show up to 100 columns in tables\")\n",
    "\n",
    "pd.set_option('display.max_rows', 100)\n",
    "print(\"Pandas display: Show up to 100 rows in tables\")\n",
    "\n",
    "pd.set_option('display.float_format', lambda x: '%.3f' % x)\n",
    "print(\"Pandas display: Set floats to show up to 3 decimal places\")"
   ]
  }
 ],
 "metadata": {
  "kernelspec": {
   "display_name": "Python 3",
   "language": "python",
   "name": "python3"
  },
  "language_info": {
   "codemirror_mode": {
    "name": "ipython",
    "version": 3
   },
   "file_extension": ".py",
   "mimetype": "text/x-python",
   "name": "python",
   "nbconvert_exporter": "python",
   "pygments_lexer": "ipython3",
   "version": "3.8.5"
  }
 },
 "nbformat": 4,
 "nbformat_minor": 5
}
