{
 "cells": [
  {
   "cell_type": "code",
   "execution_count": 1,
   "id": "ancient-allocation",
   "metadata": {},
   "outputs": [
    {
     "name": "stdout",
     "output_type": "stream",
     "text": [
      "autoreload enabled\n"
     ]
    }
   ],
   "source": [
    "# auto load changes to Python files\n",
    "%load_ext autoreload\n",
    "%autoreload 2\n",
    "print(\"autoreload enabled\")"
   ]
  },
  {
   "cell_type": "code",
   "execution_count": 6,
   "id": "included-jackson",
   "metadata": {},
   "outputs": [
    {
     "name": "stdout",
     "output_type": "stream",
     "text": [
      "numpy imported as np (1.19.5)\n"
     ]
    }
   ],
   "source": [
    "import numpy as np\n",
    "print(\"numpy imported as np ({})\".format(np.__version__))"
   ]
  },
  {
   "cell_type": "code",
   "execution_count": 2,
   "id": "suffering-seven",
   "metadata": {},
   "outputs": [
    {
     "name": "stdout",
     "output_type": "stream",
     "text": [
      "pandas imported as pd (1.2.1)\n",
      "Pandas display: Remove maximum column width\n",
      "Pandas display: Show up to 100 columns in tables\n",
      "Pandas display: Show up to 100 rows in tables\n",
      "Pandas display: Set floats to show up to 3 decimal places\n"
     ]
    }
   ],
   "source": [
    "import pandas as pd\n",
    "print(\"pandas imported as pd ({})\".format(pd.__version__))\n",
    "\n",
    "# Remove limits on displayed pandas tables\n",
    "pd.set_option('display.max_colwidth', None)\n",
    "print(\"Pandas display: Remove maximum column width\")\n",
    "\n",
    "pd.set_option('display.max_columns', 100)\n",
    "print(\"Pandas display: Show up to 100 columns in tables\")\n",
    "\n",
    "pd.set_option('display.max_rows', 100)\n",
    "print(\"Pandas display: Show up to 100 rows in tables\")\n",
    "\n",
    "pd.set_option('display.float_format', lambda x: '%.3f' % x)\n",
    "print(\"Pandas display: Set floats to show up to 3 decimal places\")"
   ]
  },
  {
   "cell_type": "code",
   "execution_count": 4,
   "id": "unnecessary-trance",
   "metadata": {},
   "outputs": [
    {
     "name": "stdout",
     "output_type": "stream",
     "text": [
      "matplotlib: show plots inline\n",
      "matplotlib as mpl (3.3.3)\n",
      "matplotlib.pyplot as plt\n",
      "matplotlib: use ggplot style\n",
      "seaborn: set white grid theme\n"
     ]
    }
   ],
   "source": [
    "%matplotlib inline\n",
    "print(\"matplotlib: show plots inline\")\n",
    "\n",
    "import matplotlib as mpl\n",
    "print(\"matplotlib imported as mpl ({})\".format(mpl.__version__))\n",
    "\n",
    "import matplotlib.pyplot as plt\n",
    "print(\"matplotlib.pyplot imported as plt\")\n",
    "\n",
    "mpl.style.use('ggplot')\n",
    "print(\"matplotlib: use ggplot style\")\n",
    "\n",
    "import seaborn as sns\n",
    "\n",
    "sns.set_theme(style=\"whitegrid\")\n",
    "print(\"seaborn: set white grid theme\")"
   ]
  },
  {
   "cell_type": "code",
   "execution_count": 5,
   "id": "hybrid-bikini",
   "metadata": {},
   "outputs": [
    {
     "name": "stdout",
     "output_type": "stream",
     "text": [
      "Logging: show log messages in ipython\n"
     ]
    }
   ],
   "source": [
    "import logging\n",
    "import sys\n",
    "logger = logging.getLogger()\n",
    "logging.basicConfig(format='%(message)s',\n",
    "                    level=logging.INFO, stream=sys.stdout)\n",
    "print(\"Logging: show log messages in ipython\")"
   ]
  }
 ],
 "metadata": {
  "kernelspec": {
   "display_name": "Python 3",
   "language": "python",
   "name": "python3"
  },
  "language_info": {
   "codemirror_mode": {
    "name": "ipython",
    "version": 3
   },
   "file_extension": ".py",
   "mimetype": "text/x-python",
   "name": "python",
   "nbconvert_exporter": "python",
   "pygments_lexer": "ipython3",
   "version": "3.8.5"
  }
 },
 "nbformat": 4,
 "nbformat_minor": 5
}
